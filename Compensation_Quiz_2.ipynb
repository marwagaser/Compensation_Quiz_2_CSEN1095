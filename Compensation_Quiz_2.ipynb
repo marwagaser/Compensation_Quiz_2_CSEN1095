{
  "nbformat": 4,
  "nbformat_minor": 0,
  "metadata": {
    "colab": {
      "name": "Compensation Quiz 2.ipynb",
      "provenance": [],
      "collapsed_sections": [],
      "toc_visible": true
    },
    "kernelspec": {
      "name": "python3",
      "display_name": "Python 3"
    }
  },
  "cells": [
    {
      "cell_type": "markdown",
      "metadata": {
        "id": "pZS2BEzArj5-"
      },
      "source": [
        "#**DURATION: 20 MINUTES**\r\n",
        "# Compensation Quiz 2\r\n"
      ]
    },
    {
      "cell_type": "markdown",
      "metadata": {
        "id": "HoAds2NrqjHZ"
      },
      "source": [
        "## Q1: Integration"
      ]
    },
    {
      "cell_type": "markdown",
      "metadata": {
        "id": "DBIPIqNH40sq"
      },
      "source": [
        "Below are two dataframes, namely `df_students_schools` and `df_students_Universities`. They both have the same column names: `First Name`, `Last Name`, and `School`. Except that `df_students_Universities` has an extra column for the `GPA`.\r\n",
        "\r\n",
        "In both dataframes the `First Name` and `Last Name` represent the same person, but the `School` column in the `df_students_schools`represent the high school name. Meanwhile, in  `df_students_Universities` it represents the university name.\r\n",
        "\r\n",
        "Integrate the two dataframes with `pd.merge` such that for each student there is 1 row representing in which high school he was and in which university. "
      ]
    },
    {
      "cell_type": "code",
      "metadata": {
        "colab": {
          "base_uri": "https://localhost:8080/"
        },
        "id": "VhWjilgYpwg8",
        "outputId": "fbf35ef3-e614-4b2f-ec8a-517ccd958d6e"
      },
      "source": [
        "import pandas as pd\r\n",
        "students_Schools = [['Alex','Adams','NIS'],['Bob','David','MES'],['Clarke','Klarkson','EBIS'],['Sarah','Ahmed','EBIS']]\r\n",
        "students_Universities = [['Alex','Adams','AUC','B'],['Bob','David','GUC','A'],['Clarke','Klarkson','GUC','C'],['Sarah','Ahmed','BUE','A']]\r\n",
        "df_students_schools = pd.DataFrame(students_Schools,columns=['First Name','Last Name','School'])\r\n",
        "df_students_Universities = pd.DataFrame(students_Universities,columns=['First Name','Last Name','School','GPA'])\r\n",
        "print(df_students_schools)\r\n",
        "print(df_students_Universities)"
      ],
      "execution_count": null,
      "outputs": [
        {
          "output_type": "stream",
          "text": [
            "  First Name Last Name School\n",
            "0       Alex     Adams    NIS\n",
            "1        Bob     David    MES\n",
            "2     Clarke  Klarkson   EBIS\n",
            "3      Sarah     Ahmed   EBIS\n",
            "  First Name Last Name School GPA\n",
            "0       Alex     Adams    AUC   B\n",
            "1        Bob     David    GUC   A\n",
            "2     Clarke  Klarkson    GUC   C\n",
            "3      Sarah     Ahmed    BUE   A\n"
          ],
          "name": "stdout"
        }
      ]
    },
    {
      "cell_type": "code",
      "metadata": {
        "id": "4GxEk7NwxlHl"
      },
      "source": [
        "#Your code here"
      ],
      "execution_count": null,
      "outputs": []
    },
    {
      "cell_type": "markdown",
      "metadata": {
        "id": "GKSqd_G-rYnJ"
      },
      "source": [
        "## Q2: Feature Engineering"
      ]
    },
    {
      "cell_type": "markdown",
      "metadata": {
        "id": "nu8VlmFM6eJB"
      },
      "source": [
        "a. Create an *Indicator Feature* for GUC-ians, using the dataset you integrated above."
      ]
    },
    {
      "cell_type": "code",
      "metadata": {
        "id": "EsI6pfBwrfpl"
      },
      "source": [
        "#Your code here"
      ],
      "execution_count": null,
      "outputs": []
    },
    {
      "cell_type": "markdown",
      "metadata": {
        "id": "hd4mZidQwDcF"
      },
      "source": [
        "b. Apply the appropriate encoding method for the column GPA and for the column that represents the university name."
      ]
    },
    {
      "cell_type": "code",
      "metadata": {
        "id": "FCZtocz2xdlN"
      },
      "source": [
        "#Your code here"
      ],
      "execution_count": null,
      "outputs": []
    },
    {
      "cell_type": "markdown",
      "metadata": {
        "id": "3cZrYPHXxfC7"
      },
      "source": [
        "c. For each column explain why the encoding method you chose was the most appropriate."
      ]
    },
    {
      "cell_type": "markdown",
      "metadata": {
        "id": "MpsEYp_lxi_B"
      },
      "source": [
        "Answer:"
      ]
    },
    {
      "cell_type": "code",
      "metadata": {
        "id": "h8AaNgqp1cVQ"
      },
      "source": [
        ""
      ],
      "execution_count": null,
      "outputs": []
    }
  ]
}